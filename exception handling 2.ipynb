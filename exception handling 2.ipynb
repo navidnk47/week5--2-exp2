{
 "cells": [
  {
   "cell_type": "code",
   "execution_count": null,
   "id": "ba709942-0a12-49ea-9dc2-278f1b57c42a",
   "metadata": {},
   "outputs": [],
   "source": [
    "Q1)Explain why we have to use the Exception class while creating a Custom Exception."
   ]
  },
  {
   "cell_type": "code",
   "execution_count": null,
   "id": "0e489597-052f-413d-9094-229d747fd639",
   "metadata": {},
   "outputs": [],
   "source": [
    "the Exception class is the base class for all built-in exceptions,\n",
    "and it is recommended to use it as the base class when creating custom exceptions.\n",
    "Here are the reasons why using the Exception class is important in Python:\n",
    "    1)Exception Hierarchy\n",
    "    2)Compatibility with Exception Handling Mechanisms\n",
    "    3)Accessing to used method and attributes"
   ]
  },
  {
   "cell_type": "code",
   "execution_count": null,
   "id": "52a487c9-8227-400f-80c6-29c45a3e85f7",
   "metadata": {},
   "outputs": [],
   "source": []
  },
  {
   "cell_type": "code",
   "execution_count": null,
   "id": "7621ba7d-8950-48ae-a3bf-ad5e01faefb1",
   "metadata": {},
   "outputs": [],
   "source": [
    "Q2)Q2. Write a python program to print Python Exception Hierarchy."
   ]
  },
  {
   "cell_type": "code",
   "execution_count": null,
   "id": "add8cf7e-32f6-46b2-ad67-3ac4784868b0",
   "metadata": {},
   "outputs": [],
   "source": [
    "def print_exception_hierarchy(exception_class, indent=0):\n",
    "    print(' ' * indent + exception_class.__name__)\n",
    "    for subclass in exception_class.__subclasses__():\n",
    "        print_exception_hierarchy(subclass, indent + 4)\n",
    "\n",
    "print_exception_hierarchy(BaseException)"
   ]
  },
  {
   "cell_type": "code",
   "execution_count": null,
   "id": "61d3240e-2469-4a3a-bcc9-a765af22e61a",
   "metadata": {},
   "outputs": [],
   "source": []
  },
  {
   "cell_type": "code",
   "execution_count": null,
   "id": "e3fd564a-182f-4e94-aafd-94e56b7bf3dd",
   "metadata": {},
   "outputs": [],
   "source": [
    "Q3. What errors are defined in the ArithmeticError class? Explain any two with an example."
   ]
  },
  {
   "cell_type": "code",
   "execution_count": 4,
   "id": "e8d66583-a814-41cc-9f25-c29e8fb3cf23",
   "metadata": {},
   "outputs": [
    {
     "name": "stdout",
     "output_type": "stream",
     "text": [
      "Error: division by zero\n"
     ]
    }
   ],
   "source": [
    "dividend = 10\n",
    "divisor = 0\n",
    "\n",
    "try:\n",
    "    result = dividend / divisor\n",
    "except ZeroDivisionError as e:\n",
    "    print(\"Error:\", e)\n"
   ]
  },
  {
   "cell_type": "code",
   "execution_count": 5,
   "id": "9a57210d-5474-4394-92db-70d04f103371",
   "metadata": {},
   "outputs": [],
   "source": []
  },
  {
   "cell_type": "code",
   "execution_count": null,
   "id": "86ad17b6-0426-4e7c-a59b-b9e0326deac7",
   "metadata": {},
   "outputs": [],
   "source": [
    "Q4)Q4. Why LookupError class is used? Explain with an example KeyError and IndexError."
   ]
  },
  {
   "cell_type": "code",
   "execution_count": 6,
   "id": "34c2e9df-0964-45a4-b99c-c1bba04dd7bb",
   "metadata": {},
   "outputs": [
    {
     "name": "stdout",
     "output_type": "stream",
     "text": [
      "Error: 'd'\n"
     ]
    }
   ],
   "source": [
    "my_dict = {'a': 1, 'b': 2, 'c': 3}\n",
    "\n",
    "try:\n",
    "    value = my_dict['d']\n",
    "except KeyError as e:\n",
    "    print(\"Error:\", e)\n"
   ]
  },
  {
   "cell_type": "code",
   "execution_count": null,
   "id": "c80b9c94-5d27-420c-a6ed-2472405682aa",
   "metadata": {},
   "outputs": [],
   "source": []
  },
  {
   "cell_type": "code",
   "execution_count": null,
   "id": "cd9ebecd-8104-45b5-8e0a-dcc7e744d0b7",
   "metadata": {},
   "outputs": [],
   "source": [
    "Q5. Explain ImportError. What is ModuleNotFoundError?"
   ]
  },
  {
   "cell_type": "code",
   "execution_count": 7,
   "id": "e2f90b92-61dd-447a-88be-47d22f4247d8",
   "metadata": {},
   "outputs": [
    {
     "ename": "SyntaxError",
     "evalue": "invalid syntax (155531733.py, line 2)",
     "output_type": "error",
     "traceback": [
      "\u001b[0;36m  Cell \u001b[0;32mIn[7], line 2\u001b[0;36m\u001b[0m\n\u001b[0;31m    ModuleNotFoundError: No module named 'mymodule'\u001b[0m\n\u001b[0m                            ^\u001b[0m\n\u001b[0;31mSyntaxError\u001b[0m\u001b[0;31m:\u001b[0m invalid syntax\n"
     ]
    }
   ],
   "source": [
    " import mymodule\n",
    "ModuleNotFoundError: No module named 'mymodule'\n"
   ]
  },
  {
   "cell_type": "code",
   "execution_count": null,
   "id": "a073ff92-47ca-4fb1-a359-776a50c4d218",
   "metadata": {},
   "outputs": [],
   "source": []
  },
  {
   "cell_type": "code",
   "execution_count": null,
   "id": "43edc120-02f5-472a-b217-2b70b60ef5ba",
   "metadata": {},
   "outputs": [],
   "source": []
  }
 ],
 "metadata": {
  "kernelspec": {
   "display_name": "Python 3 (ipykernel)",
   "language": "python",
   "name": "python3"
  },
  "language_info": {
   "codemirror_mode": {
    "name": "ipython",
    "version": 3
   },
   "file_extension": ".py",
   "mimetype": "text/x-python",
   "name": "python",
   "nbconvert_exporter": "python",
   "pygments_lexer": "ipython3",
   "version": "3.10.8"
  }
 },
 "nbformat": 4,
 "nbformat_minor": 5
}
